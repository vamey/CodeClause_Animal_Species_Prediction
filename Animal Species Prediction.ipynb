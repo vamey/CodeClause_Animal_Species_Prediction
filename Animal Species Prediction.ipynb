{
 "cells": [
  {
   "cell_type": "markdown",
   "id": "292a58ac",
   "metadata": {},
   "source": [
    "# Animal Species Prediction"
   ]
  },
  {
   "cell_type": "code",
   "execution_count": 1,
   "id": "98c10f6a",
   "metadata": {},
   "outputs": [],
   "source": [
    "# Import necessary libraries\n",
    "import numpy as np\n",
    "import tensorflow as tf\n",
    "from tensorflow.keras.preprocessing.image import load_img, img_to_array\n",
    "from tensorflow.keras.applications.vgg16 import preprocess_input, decode_predictions, VGG16"
   ]
  },
  {
   "cell_type": "code",
   "execution_count": 2,
   "id": "7ef857dd",
   "metadata": {},
   "outputs": [],
   "source": [
    "# Load the pre-trained VGG16 model\n",
    "model = VGG16()"
   ]
  },
  {
   "cell_type": "code",
   "execution_count": 3,
   "id": "dca13dce",
   "metadata": {},
   "outputs": [],
   "source": [
    "# Define a function to preprocess the image\n",
    "def preprocess_image(image_path):\n",
    "    # Load the image with target size of (224, 224)\n",
    "    img = load_img(image_path, target_size=(224, 224))\n",
    "    # Convert the image to a numpy array\n",
    "    img_array = img_to_array(img)\n",
    "    # Reshape the image to (1, 224, 224, 3)\n",
    "    img_array = img_array.reshape((1, 224, 224, 3))\n",
    "    # Preprocess the image\n",
    "    img_array = preprocess_input(img_array)\n",
    "    return img_array"
   ]
  },
  {
   "cell_type": "code",
   "execution_count": 4,
   "id": "ef944857",
   "metadata": {},
   "outputs": [],
   "source": [
    "# Define a function to predict the animal species\n",
    "def predict_species(image_path):\n",
    "    # Preprocess the image\n",
    "    img_array = preprocess_image(image_path)\n",
    "    # Make a prediction\n",
    "    preds = model.predict(img_array)\n",
    "    # Decode the predictions\n",
    "    species = decode_predictions(preds, top=1)[0][0][1]\n",
    "    return species"
   ]
  },
  {
   "cell_type": "code",
   "execution_count": 5,
   "id": "cfece41e",
   "metadata": {},
   "outputs": [
    {
     "name": "stdout",
     "output_type": "stream",
     "text": [
      "1/1 [==============================] - 0s 333ms/step\n",
      "The predicted species is: golden_retriever\n"
     ]
    }
   ],
   "source": [
    "# Test the function on a sample image\n",
    "image_path = 'dog.jpeg'\n",
    "species = predict_species(image_path)\n",
    "print('The predicted species is:', species)"
   ]
  },
  {
   "cell_type": "code",
   "execution_count": null,
   "id": "e7846524",
   "metadata": {},
   "outputs": [],
   "source": []
  }
 ],
 "metadata": {
  "kernelspec": {
   "display_name": "Python 3 (ipykernel)",
   "language": "python",
   "name": "python3"
  },
  "language_info": {
   "codemirror_mode": {
    "name": "ipython",
    "version": 3
   },
   "file_extension": ".py",
   "mimetype": "text/x-python",
   "name": "python",
   "nbconvert_exporter": "python",
   "pygments_lexer": "ipython3",
   "version": "3.10.9"
  }
 },
 "nbformat": 4,
 "nbformat_minor": 5
}
